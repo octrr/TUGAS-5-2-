{
 "cells": [
  {
   "cell_type": "code",
   "execution_count": 2,
   "id": "585812e9",
   "metadata": {},
   "outputs": [
    {
     "name": "stdout",
     "output_type": "stream",
     "text": [
      "Hobi kamu apa? :LARI\n",
      "hobi kamu LARI\n",
      "Siapa nama kamu :MOCHAMAD OCTA RAMADHAN\n",
      "Nama kamu berawalan huruf M\n"
     ]
    }
   ],
   "source": [
    "#Code here\n",
    "hobi = input('Hobi kamu apa? :')\n",
    "print(f\"hobi kamu {hobi}\")\n",
    "\n",
    "nama = input('Siapa nama kamu :')\n",
    "print(f\"Nama kamu berawalan huruf {nama[0]}\")"
   ]
  },
  {
   "cell_type": "code",
   "execution_count": 3,
   "id": "7531c653",
   "metadata": {},
   "outputs": [
    {
     "name": "stdout",
     "output_type": "stream",
     "text": [
      "Berapa hasil perkalian dari 72 dan 14 ? = 88\n",
      "Jawaban anda False\n"
     ]
    }
   ],
   "source": [
    "#Code Here\n",
    "from random import randint\n",
    "\n",
    "nilai1 = randint(0,100)\n",
    "nilai2 = randint(0,100)\n",
    "hasil = nilai1 * nilai2\n",
    "\n",
    "jawab = int(input(\"Berapa hasil perkalian dari {} dan {} ? = \".format(nilai1,nilai2)))\n",
    "print(\"Jawaban anda {}\".format(jawab==hasil))"
   ]
  },
  {
   "cell_type": "code",
   "execution_count": 4,
   "id": "0f34b76c",
   "metadata": {},
   "outputs": [
    {
     "name": "stdout",
     "output_type": "stream",
     "text": [
      "Emoji Yang Muncul :😀\n",
      "Emoji Yang Muncul :🙂\n",
      "Emoji Yang Muncul :😉\n",
      "Emoji Yang Muncul :😠\n",
      "Emoji Yang Muncul :🤣\n"
     ]
    }
   ],
   "source": [
    "#Code here\n",
    "print(\"Emoji Yang Muncul :\\N{grinning face}\")\n",
    "print(\"Emoji Yang Muncul :\\N{slightly smiling face}\")\n",
    "print(\"Emoji Yang Muncul :\\N{winking face}\")\n",
    "print(\"Emoji Yang Muncul :\\N{angry face}\")\n",
    "print(\"Emoji Yang Muncul :\\N{rolling on the floor laughing}\")"
   ]
  },
  {
   "cell_type": "code",
   "execution_count": 5,
   "id": "cec22f80",
   "metadata": {},
   "outputs": [
    {
     "name": "stdout",
     "output_type": "stream",
     "text": [
      "1.Kata Yang Keluar Adalah: Belajar\n",
      "2.Kata Yang Keluar Adalah: ajar\n",
      "3.Kata Yang Keluar Adalah: Pemrograman \n",
      "4.Kata Yang Keluar Adalah: gram\n",
      "5.Kata Yang Keluar Adalah: Python\n",
      "6.Kata Yang Keluar Adalah: Py\n",
      "7.Kata Yang Keluar Adalah: gram Python\n",
      "8.Kata Yang Keluar Adalah: Pemrograman Python\n"
     ]
    }
   ],
   "source": [
    "#Code here\n",
    "kata = \"Belajar ajar Pemrograman gram Python Py gram Python Pemrograman Python\"\n",
    "print(\"1.Kata Yang Keluar Adalah:\",kata[0:7])\n",
    "print(\"2.Kata Yang Keluar Adalah:\",kata[8:12])\n",
    "print(\"3.Kata Yang Keluar Adalah:\",kata[13:25])\n",
    "print(\"4.Kata Yang Keluar Adalah:\",kata[25:29])\n",
    "print(\"5.Kata Yang Keluar Adalah:\",kata[30:36])\n",
    "print(\"6.Kata Yang Keluar Adalah:\",kata[37:39])\n",
    "print(\"7.Kata Yang Keluar Adalah:\",kata[40:51])\n",
    "print(\"8.Kata Yang Keluar Adalah:\",kata[-18:])"
   ]
  },
  {
   "cell_type": "code",
   "execution_count": 7,
   "id": "8b1d0bed",
   "metadata": {},
   "outputs": [
    {
     "name": "stdout",
     "output_type": "stream",
     "text": [
      "=====Menentukan Nilai True Atau False=====\n",
      "Masukan Email : mochocta8@gmail.com\n",
      "mochocta8@gmail.com  ->  True\n"
     ]
    }
   ],
   "source": [
    "#Code here\n",
    "print(\"=====Menentukan Nilai True Atau False=====\")\n",
    "email = input('Masukan Email : ')\n",
    "valid_email = '@gmail.com'\n",
    "if valid_email in email:\n",
    "    print(email, ' -> ', True)\n",
    "else:\n",
    "    print(email, ' -> ', False)"
   ]
  }
 ],
 "metadata": {
  "kernelspec": {
   "display_name": "Python 3 (ipykernel)",
   "language": "python",
   "name": "python3"
  },
  "language_info": {
   "codemirror_mode": {
    "name": "ipython",
    "version": 3
   },
   "file_extension": ".py",
   "mimetype": "text/x-python",
   "name": "python",
   "nbconvert_exporter": "python",
   "pygments_lexer": "ipython3",
   "version": "3.9.12"
  }
 },
 "nbformat": 4,
 "nbformat_minor": 5
}
